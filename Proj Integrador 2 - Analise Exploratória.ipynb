{
 "cells": [
  {
   "cell_type": "code",
   "execution_count": 1,
   "id": "a2a43d37",
   "metadata": {},
   "outputs": [],
   "source": [
    "import pandas as pd\n",
    "import matplotlib.pyplot as plt\n",
    "import matplotlib.image as mpimg\n",
    "\n",
    "import os"
   ]
  },
  {
   "cell_type": "code",
   "execution_count": 2,
   "id": "6f428c15",
   "metadata": {},
   "outputs": [],
   "source": [
    "img_lista  =\"C:\\\\Users\\\\kika_\\\\OneDrive\\\\Área de Trabalho\\\\dados\\\\all_resized_into_sub_folders_640/\""
   ]
  },
  {
   "cell_type": "code",
   "execution_count": 3,
   "id": "6bfe5fcf",
   "metadata": {},
   "outputs": [],
   "source": [
    "rotulo = ['Black bishop','Black king','Black knight','Black pawn','Black queen','Black rook','White bishop','White king','White knight','White pawn','White queen','White rook']"
   ]
  },
  {
   "cell_type": "code",
   "execution_count": 4,
   "id": "087783d4",
   "metadata": {},
   "outputs": [
    {
     "data": {
      "text/plain": [
       "'C:\\\\Users\\\\kika_\\\\OneDrive\\\\Área de Trabalho\\\\dados\\\\all_resized_into_sub_folders_640/'"
      ]
     },
     "execution_count": 4,
     "metadata": {},
     "output_type": "execute_result"
    }
   ],
   "source": [
    "img_lista"
   ]
  },
  {
   "cell_type": "code",
   "execution_count": 5,
   "id": "eb2ffd38",
   "metadata": {},
   "outputs": [
    {
     "name": "stdout",
     "output_type": "stream",
     "text": [
      "   C:\\Users\\kika_\\OneDrive\\Área de Trabalho\\dados\\all_resized_into_sub_folders_640\\Black bishop  \\\n",
      "0   C:\\Users\\kika_\\OneDrive\\Área de Trabalho\\dados...                                             \n",
      "1   C:\\Users\\kika_\\OneDrive\\Área de Trabalho\\dados...                                             \n",
      "2   C:\\Users\\kika_\\OneDrive\\Área de Trabalho\\dados...                                             \n",
      "3   C:\\Users\\kika_\\OneDrive\\Área de Trabalho\\dados...                                             \n",
      "4   C:\\Users\\kika_\\OneDrive\\Área de Trabalho\\dados...                                             \n",
      "5   C:\\Users\\kika_\\OneDrive\\Área de Trabalho\\dados...                                             \n",
      "6   C:\\Users\\kika_\\OneDrive\\Área de Trabalho\\dados...                                             \n",
      "7   C:\\Users\\kika_\\OneDrive\\Área de Trabalho\\dados...                                             \n",
      "8   C:\\Users\\kika_\\OneDrive\\Área de Trabalho\\dados...                                             \n",
      "9   C:\\Users\\kika_\\OneDrive\\Área de Trabalho\\dados...                                             \n",
      "10  C:\\Users\\kika_\\OneDrive\\Área de Trabalho\\dados...                                             \n",
      "11  C:\\Users\\kika_\\OneDrive\\Área de Trabalho\\dados...                                             \n",
      "\n",
      "    Black bishop  \n",
      "0   Black bishop  \n",
      "1     Black king  \n",
      "2   Black knight  \n",
      "3     Black pawn  \n",
      "4    Black queen  \n",
      "5     Black rook  \n",
      "6   White bishop  \n",
      "7     White king  \n",
      "8   White knight  \n",
      "9     White pawn  \n",
      "10   White queen  \n",
      "11    White rook  \n"
     ]
    }
   ],
   "source": [
    "# lista de dicionários\n",
    "data = [{\"C:\\\\Users\\\\kika_\\\\OneDrive\\\\Área de Trabalho\\\\dados\\\\all_resized_into_sub_folders_640\\\\Black bishop\": os.path.join(img_lista, folder), \"Black bishop\": folder} for folder in os.listdir(img_lista) if os.path.isdir(os.path.join(img_lista, folder))]\n",
    "\n",
    "# Converte a lista em um DataFrame\n",
    "df1 = pd.DataFrame(data)\n",
    "\n",
    "# Exibe o DataFrame\n",
    "print(df1)"
   ]
  },
  {
   "cell_type": "code",
   "execution_count": 6,
   "id": "07303d1c",
   "metadata": {},
   "outputs": [
    {
     "name": "stdout",
     "output_type": "stream",
     "text": [
      "Index(['C:\\Users\\kika_\\OneDrive\\Área de Trabalho\\dados\\all_resized_into_sub_folders_640\\Black bishop', 'Black bishop'], dtype='object')\n"
     ]
    }
   ],
   "source": [
    "print(df1.columns)"
   ]
  },
  {
   "cell_type": "code",
   "execution_count": 7,
   "id": "0b6c73b5",
   "metadata": {},
   "outputs": [
    {
     "name": "stdout",
     "output_type": "stream",
     "text": [
      "                                              Caminho        folder\n",
      "0   C:\\Users\\kika_\\OneDrive\\Área de Trabalho\\dados...  Black bishop\n",
      "1   C:\\Users\\kika_\\OneDrive\\Área de Trabalho\\dados...    Black king\n",
      "2   C:\\Users\\kika_\\OneDrive\\Área de Trabalho\\dados...  Black knight\n",
      "3   C:\\Users\\kika_\\OneDrive\\Área de Trabalho\\dados...    Black pawn\n",
      "4   C:\\Users\\kika_\\OneDrive\\Área de Trabalho\\dados...   Black queen\n",
      "5   C:\\Users\\kika_\\OneDrive\\Área de Trabalho\\dados...    Black rook\n",
      "6   C:\\Users\\kika_\\OneDrive\\Área de Trabalho\\dados...  White bishop\n",
      "7   C:\\Users\\kika_\\OneDrive\\Área de Trabalho\\dados...    White king\n",
      "8   C:\\Users\\kika_\\OneDrive\\Área de Trabalho\\dados...  White knight\n",
      "9   C:\\Users\\kika_\\OneDrive\\Área de Trabalho\\dados...    White pawn\n",
      "10  C:\\Users\\kika_\\OneDrive\\Área de Trabalho\\dados...   White queen\n",
      "11  C:\\Users\\kika_\\OneDrive\\Área de Trabalho\\dados...    White rook\n"
     ]
    }
   ],
   "source": [
    "# Reorganiza as colunas\n",
    "df1 = df1[['C:\\\\Users\\\\kika_\\\\OneDrive\\\\Área de Trabalho\\\\dados\\\\all_resized_into_sub_folders_640\\\\Black bishop', 'Black bishop']]\n",
    "\n",
    "# Renomea as colunas\n",
    "df1.rename(columns={\n",
    "    'C:\\\\Users\\\\kika_\\\\OneDrive\\\\Área de Trabalho\\\\dados\\\\all_resized_into_sub_folders_640\\\\Black bishop': 'Caminho',\n",
    "    'Black bishop': 'folder'\n",
    "}, inplace=True)\n",
    "\n",
    "# Exibe o DataFrame\n",
    "print(df1)"
   ]
  },
  {
   "cell_type": "code",
   "execution_count": 8,
   "id": "8a235f5f",
   "metadata": {},
   "outputs": [
    {
     "data": {
      "text/plain": [
       "folder\n",
       "Black bishop    1\n",
       "Black king      1\n",
       "Black knight    1\n",
       "Black pawn      1\n",
       "Black queen     1\n",
       "Black rook      1\n",
       "White bishop    1\n",
       "White king      1\n",
       "White knight    1\n",
       "White pawn      1\n",
       "White queen     1\n",
       "White rook      1\n",
       "Name: count, dtype: int64"
      ]
     },
     "execution_count": 8,
     "metadata": {},
     "output_type": "execute_result"
    }
   ],
   "source": [
    "df1['folder'].value_counts()"
   ]
  },
  {
   "cell_type": "code",
   "execution_count": 9,
   "id": "623832cb",
   "metadata": {},
   "outputs": [],
   "source": [
    "# Cria a iteração entre rótulo e imagem e armazena o Caminho e o Rótulo\n",
    "\n",
    "img_list = []\n",
    "label_list = []\n",
    "\n",
    "for label in rotulo:\n",
    "    for img_file in os.listdir(os.path.join(img_lista, label)):\n",
    "        img_list.append(os.path.join(img_lista, label, img_file))\n",
    "        label_list.append(label)\n",
    "        \n",
    "df1 = pd.DataFrame({'img': img_list, 'label': label_list})"
   ]
  },
  {
   "cell_type": "code",
   "execution_count": 10,
   "id": "e1e5824c",
   "metadata": {},
   "outputs": [],
   "source": [
    "from PIL import Image\n",
    "import numpy as np"
   ]
  },
  {
   "cell_type": "code",
   "execution_count": 11,
   "id": "6dadea29",
   "metadata": {},
   "outputs": [
    {
     "data": {
      "text/html": [
       "<div>\n",
       "<style scoped>\n",
       "    .dataframe tbody tr th:only-of-type {\n",
       "        vertical-align: middle;\n",
       "    }\n",
       "\n",
       "    .dataframe tbody tr th {\n",
       "        vertical-align: top;\n",
       "    }\n",
       "\n",
       "    .dataframe thead th {\n",
       "        text-align: right;\n",
       "    }\n",
       "</style>\n",
       "<table border=\"1\" class=\"dataframe\">\n",
       "  <thead>\n",
       "    <tr style=\"text-align: right;\">\n",
       "      <th></th>\n",
       "      <th>img</th>\n",
       "      <th>label</th>\n",
       "    </tr>\n",
       "  </thead>\n",
       "  <tbody>\n",
       "    <tr>\n",
       "      <th>0</th>\n",
       "      <td>C:\\Users\\kika_\\OneDrive\\Área de Trabalho\\dados...</td>\n",
       "      <td>Black bishop</td>\n",
       "    </tr>\n",
       "    <tr>\n",
       "      <th>1</th>\n",
       "      <td>C:\\Users\\kika_\\OneDrive\\Área de Trabalho\\dados...</td>\n",
       "      <td>Black bishop</td>\n",
       "    </tr>\n",
       "    <tr>\n",
       "      <th>2</th>\n",
       "      <td>C:\\Users\\kika_\\OneDrive\\Área de Trabalho\\dados...</td>\n",
       "      <td>Black bishop</td>\n",
       "    </tr>\n",
       "    <tr>\n",
       "      <th>3</th>\n",
       "      <td>C:\\Users\\kika_\\OneDrive\\Área de Trabalho\\dados...</td>\n",
       "      <td>Black bishop</td>\n",
       "    </tr>\n",
       "    <tr>\n",
       "      <th>4</th>\n",
       "      <td>C:\\Users\\kika_\\OneDrive\\Área de Trabalho\\dados...</td>\n",
       "      <td>Black bishop</td>\n",
       "    </tr>\n",
       "  </tbody>\n",
       "</table>\n",
       "</div>"
      ],
      "text/plain": [
       "                                                 img         label\n",
       "0  C:\\Users\\kika_\\OneDrive\\Área de Trabalho\\dados...  Black bishop\n",
       "1  C:\\Users\\kika_\\OneDrive\\Área de Trabalho\\dados...  Black bishop\n",
       "2  C:\\Users\\kika_\\OneDrive\\Área de Trabalho\\dados...  Black bishop\n",
       "3  C:\\Users\\kika_\\OneDrive\\Área de Trabalho\\dados...  Black bishop\n",
       "4  C:\\Users\\kika_\\OneDrive\\Área de Trabalho\\dados...  Black bishop"
      ]
     },
     "execution_count": 11,
     "metadata": {},
     "output_type": "execute_result"
    }
   ],
   "source": [
    "# lendo o Dataframe\n",
    "\n",
    "df1.head()"
   ]
  },
  {
   "cell_type": "code",
   "execution_count": 12,
   "id": "d537fc3a",
   "metadata": {},
   "outputs": [
    {
     "data": {
      "text/plain": [
       "img      object\n",
       "label    object\n",
       "dtype: object"
      ]
     },
     "execution_count": 12,
     "metadata": {},
     "output_type": "execute_result"
    }
   ],
   "source": [
    "df1.dtypes\n"
   ]
  },
  {
   "cell_type": "code",
   "execution_count": 13,
   "id": "05b45651",
   "metadata": {},
   "outputs": [
    {
     "data": {
      "text/plain": [
       "img      0\n",
       "label    0\n",
       "dtype: int64"
      ]
     },
     "execution_count": 13,
     "metadata": {},
     "output_type": "execute_result"
    }
   ],
   "source": [
    "# Procurando Valores Nulos\n",
    "df1.isnull().sum()"
   ]
  },
  {
   "cell_type": "code",
   "execution_count": 14,
   "id": "af28b631",
   "metadata": {},
   "outputs": [
    {
     "data": {
      "text/plain": [
       "(640, 640, 3)"
      ]
     },
     "execution_count": 14,
     "metadata": {},
     "output_type": "execute_result"
    }
   ],
   "source": [
    "# Verificando o tamanho das imagens\n",
    "\n",
    "plt.imread(df1['img'][0]).shape"
   ]
  },
  {
   "cell_type": "code",
   "execution_count": 15,
   "id": "f17b5a1e",
   "metadata": {},
   "outputs": [],
   "source": [
    "# Listas para armazenar os valores dos pixels de cada canal\n",
    "\n",
    "red_values = []\n",
    "green_values = []\n",
    "blue_values = []\n",
    "\n",
    "# Iterar sobre as imagens do DataFrame\n",
    "\n",
    "for index, row in df1.iterrows():\n",
    "    img_path = row['img']\n",
    "    img = Image.open(img_path)\n",
    "    \n",
    "    if img is not None:\n",
    "        # Converter a imagem para RGB \n",
    "        img = img.convert('RGB')\n",
    "        \n",
    "        # Obter os canais\n",
    "        red_channel, green_channel, blue_channel = img.split()\n",
    "        \n",
    "        # Adicionar os valores dos pixels às respectivas listas\n",
    "        red_values.extend(np.array(red_channel).ravel())\n",
    "        green_values.extend(np.array(green_channel).ravel())\n",
    "        blue_values.extend(np.array(blue_channel).ravel())\n",
    "\n",
    "\n"
   ]
  },
  {
   "cell_type": "code",
   "execution_count": 16,
   "id": "fdaf637f",
   "metadata": {},
   "outputs": [
    {
     "name": "stdout",
     "output_type": "stream",
     "text": [
      "Red Channel - Mean: 116.96116814778645, Std Dev: 90.24465874713466\n",
      "Green Channel - Mean: 141.98433564453126, Std Dev: 58.96530395299627\n",
      "Blue Channel - Mean: 120.85627466634115, Std Dev: 73.10669710024972\n"
     ]
    }
   ],
   "source": [
    "# Calcula média e desvio padrão para cada canal\n",
    "\n",
    "red_mean = np.mean(red_values)\n",
    "red_std = np.std(red_values)\n",
    "\n",
    "green_mean = np.mean(green_values)\n",
    "green_std = np.std(green_values)\n",
    "\n",
    "blue_mean = np.mean(blue_values)\n",
    "blue_std = np.std(blue_values)\n",
    "\n",
    "print(f\"Red Channel - Mean: {red_mean}, Std Dev: {red_std}\")\n",
    "print(f\"Green Channel - Mean: {green_mean}, Std Dev: {green_std}\")\n",
    "print(f\"Blue Channel - Mean: {blue_mean}, Std Dev: {blue_std}\")\n",
    "\n"
   ]
  },
  {
   "cell_type": "code",
   "execution_count": 17,
   "id": "b7ff6f2a",
   "metadata": {},
   "outputs": [],
   "source": [
    "# Esta função calcula estatísticas para os canais de cor Vermelho, Verde e Azul (RGB) de um conjunto de imagens.\n",
    "# Segmenta as peças brancas e pretas\n",
    "# Calcula as estatíticas por segmentação\n",
    "\n",
    "def compute_channel_stats(img_list):\n",
    "    red_values = []\n",
    "    green_values = []\n",
    "    blue_values = []\n",
    "\n",
    "    for img_path in img_list:\n",
    "        img = Image.open(img_path)\n",
    "        if img is not None:\n",
    "            img = img.convert('RGB')\n",
    "            red_channel, green_channel, blue_channel = img.split()\n",
    "            red_values.extend(np.array(red_channel).ravel())\n",
    "            green_values.extend(np.array(green_channel).ravel())\n",
    "            blue_values.extend(np.array(blue_channel).ravel())\n",
    "\n",
    "    return {\n",
    "        'red_mean': np.mean(red_values),\n",
    "        'green_mean': np.mean(green_values),\n",
    "        'blue_mean': np.mean(blue_values),\n",
    "        'red_std': np.std(red_values),\n",
    "        'green_std': np.std(green_values),\n",
    "        'blue_std': np.std(blue_values)\n",
    "    }\n",
    "\n",
    "# Segmentar o DataFrame\n",
    "\n",
    "white_pieces = df1[df1['label'].str.contains('White')] \n",
    "black_pieces = df1[df1['label'].str.contains('Black')]\n",
    "\n",
    "# Calcular estatísticas\n",
    "\n",
    "white_stats = compute_channel_stats(white_pieces['img'].tolist())\n",
    "black_stats = compute_channel_stats(black_pieces['img'].tolist())\n",
    "\n"
   ]
  },
  {
   "cell_type": "code",
   "execution_count": 18,
   "id": "bd6bc009",
   "metadata": {},
   "outputs": [
    {
     "data": {
      "image/png": "[encoded data removed]",
      "text/plain": [
       "<Figure size 640x480 with 1 Axes>"
      ]
     },
     "metadata": {},
     "output_type": "display_data"
    }
   ],
   "source": [
    "# Gráfico dos resultados\n",
    "\n",
    "labels = ['Red', 'Green', 'Blue']\n",
    "white_means = [white_stats['red_mean'], white_stats['green_mean'], white_stats['blue_mean']]\n",
    "black_means = [black_stats['red_mean'], black_stats['green_mean'], black_stats['blue_mean']]\n",
    "\n",
    "x = np.arange(len(labels))\n",
    "width = 0.35\n",
    "\n",
    "fig, ax = plt.subplots()\n",
    "rects1 = ax.bar(x - width/2, white_means, width, label='White Pieces', yerr=[white_stats['red_std'], white_stats['green_std'], white_stats['blue_std']])\n",
    "rects2 = ax.bar(x + width/2, black_means, width, label='Black Pieces', yerr=[black_stats['red_std'], black_stats['green_std'], black_stats['blue_std']])\n",
    "\n",
    "ax.set_ylabel('Valor do Pixel')\n",
    "ax.set_title('Valor Médio do Pixel por Canal e Cor da Peça')\n",
    "ax.set_xticks(x)\n",
    "ax.set_xticklabels(labels)\n",
    "ax.legend()\n",
    "\n",
    "fig.tight_layout()\n",
    "plt.show()"
   ]
  },
  {
   "cell_type": "code",
   "execution_count": 19,
   "id": "56470c40",
   "metadata": {},
   "outputs": [],
   "source": [
    "# plotar um gráfico com  a distribuição dos valores dos pixels para cada canal \n",
    "# Vamos selecionar aleatoriamente uma porcentagem das suas imagens (30%).\n",
    "# Para essa amostra, vamos calcular a distribuição dos valores dos pixels para cada canal."
   ]
  },
  {
   "cell_type": "code",
   "execution_count": 20,
   "id": "31fa24bb",
   "metadata": {},
   "outputs": [
    {
     "data": {
      "image/png": "[encoded data removed]",
      "text/plain": [
       "<Figure size 1500x500 with 3 Axes>"
      ]
     },
     "metadata": {},
     "output_type": "display_data"
    }
   ],
   "source": [
    "from PIL import Image\n",
    "import numpy as np\n",
    "import matplotlib.pyplot as plt\n",
    "import random\n",
    "\n",
    "# Selecionar uma amostra de 30% das imagens\n",
    "sample_size = int(0.30 * len(df1))\n",
    "sample_images = random.sample(df1['img'].tolist(), sample_size)\n",
    "\n",
    "red_values = []\n",
    "green_values = []\n",
    "blue_values = []\n",
    "\n",
    "# Iterar sobre as imagens da amostra\n",
    "for img_path in sample_images:\n",
    "    img = Image.open(img_path)\n",
    "    \n",
    "    if img is not None:\n",
    "        img = img.convert('RGB')\n",
    "        red_channel, green_channel, blue_channel = img.split()\n",
    "        \n",
    "        red_values.extend(np.array(red_channel).ravel())\n",
    "        green_values.extend(np.array(green_channel).ravel())\n",
    "        blue_values.extend(np.array(blue_channel).ravel())\n",
    "\n",
    "# Plotar histogramas\n",
    "plt.figure(figsize=(15, 5))\n",
    "\n",
    "# Histograma para o canal vermelho\n",
    "plt.subplot(1, 3, 1)\n",
    "plt.hist(red_values, bins=256, color='red', alpha=0.6)\n",
    "plt.title('Distribuição do Canal Vermelho')\n",
    "plt.xlabel('Valor do Pixel')\n",
    "plt.ylabel('Frequência')\n",
    "\n",
    "# Histograma para o canal verde\n",
    "plt.subplot(1, 3, 2)\n",
    "plt.hist(green_values, bins=256, color='green', alpha=0.6)\n",
    "plt.title('Distribuição do Canal Verde')\n",
    "plt.xlabel('Valor do Pixel')\n",
    "plt.ylabel('Frequência')\n",
    "\n",
    "# Histograma para o canal azul\n",
    "plt.subplot(1, 3, 3)\n",
    "plt.hist(blue_values, bins=256, color='blue', alpha=0.6)\n",
    "plt.title('Distribuição do Canal Azul')\n",
    "plt.xlabel('Valor do Pixel')\n",
    "plt.ylabel('Frequência')\n",
    "\n",
    "plt.tight_layout()\n",
    "plt.show()\n"
   ]
  },
  {
   "cell_type": "code",
   "execution_count": 21,
   "id": "6ca82a90",
   "metadata": {},
   "outputs": [
    {
     "name": "stdout",
     "output_type": "stream",
     "text": [
      "Esta análise foi realizada por: Vânia Jesus\n"
     ]
    }
   ],
   "source": [
    "print('Esta análise foi realizada por: Vânia Jesus')"
   ]
  },
  {
   "cell_type": "code",
   "execution_count": null,
   "id": "42fe62d1",
   "metadata": {},
   "outputs": [],
   "source": []
  }
 ],
 "metadata": {
  "kernelspec": {
   "display_name": "Python 3 (ipykernel)",
   "language": "python",
   "name": "python3"
  },
  "language_info": {
   "codemirror_mode": {
    "name": "ipython",
    "version": 3
   },
   "file_extension": ".py",
   "mimetype": "text/x-python",
   "name": "python",
   "nbconvert_exporter": "python",
   "pygments_lexer": "ipython3",
   "version": "3.8.18"
  }
 },
 "nbformat": 4,
 "nbformat_minor": 5
}
